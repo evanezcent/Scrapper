{
 "cells": [
  {
   "cell_type": "code",
   "execution_count": 19,
   "metadata": {},
   "outputs": [],
   "source": [
    "import requests\n",
    "import bs4\n",
    "import pandas as pd"
   ]
  },
  {
   "cell_type": "code",
   "execution_count": 75,
   "metadata": {},
   "outputs": [
    {
     "name": "stdout",
     "output_type": "stream",
     "text": [
      "Daftar 6 Kabupaten/Kota di Provinsi DKI Jakarta\n"
     ]
    }
   ],
   "source": [
    "url = 'https://www.kotajakarta.id/daftar-kabupaten-kota-di-provinsi-dki-jakarta/'\n",
    "res = requests.get(url)\n",
    "soup = bs4.BeautifulSoup(res.text, \"html.parser\")\n",
    "print(soup.title.string)"
   ]
  },
  {
   "cell_type": "code",
   "execution_count": 76,
   "metadata": {},
   "outputs": [
    {
     "data": {
      "text/plain": [
       "<table border=\"1\">\n",
       "<thead>\n",
       "<tr style=\"background-color: #cccccc;\">\n",
       "<td style=\"text-align: center;\" width=\"38\"><strong>No</strong></td>\n",
       "<td style=\"text-align: center;\" width=\"68\"><strong>Kode Wilayah</strong></td>\n",
       "<td style=\"text-align: center;\" width=\"154\"><strong>Nama Kabupaten/Kota</strong></td>\n",
       "<td style=\"text-align: center;\" width=\"115\"><strong>Ibu Kota Kabupaten</strong></td>\n",
       "<td style=\"text-align: center;\" width=\"106\"><strong>Luas Wilayah (km2)</strong></td>\n",
       "<td style=\"text-align: center;\" width=\"77\"><strong>Luas Wilayah (%)</strong></td>\n",
       "</tr>\n",
       "</thead>\n",
       "<tbody>\n",
       "<tr>\n",
       "<td style=\"text-align: center;\" width=\"38\">1</td>\n",
       "<td style=\"text-align: center;\" width=\"68\">31.01</td>\n",
       "<td width=\"154\">Kabupaten Administrasi Kepulauan Seribu</td>\n",
       "<td width=\"115\">Pulau Pramuka</td>\n",
       "<td style=\"text-align: right;\" width=\"106\">10,18</td>\n",
       "<td style=\"text-align: right;\" width=\"77\">1,53%</td>\n",
       "</tr>\n",
       "<tr>\n",
       "<td style=\"text-align: center;\" width=\"38\">2</td>\n",
       "<td style=\"text-align: center;\" width=\"68\">31.71</td>\n",
       "<td width=\"154\">Kota Administrasi Jakarta Pusat</td>\n",
       "<td width=\"115\">–</td>\n",
       "<td style=\"text-align: right;\" width=\"106\">52,38</td>\n",
       "<td style=\"text-align: right;\" width=\"77\">7,89%</td>\n",
       "</tr>\n",
       "<tr>\n",
       "<td style=\"text-align: center;\" width=\"38\">3</td>\n",
       "<td style=\"text-align: center;\" width=\"68\">31.72</td>\n",
       "<td width=\"154\">Kota Administrasi Jakarta Utara</td>\n",
       "<td width=\"115\">–</td>\n",
       "<td style=\"text-align: right;\" width=\"106\">139,99</td>\n",
       "<td style=\"text-align: right;\" width=\"77\">21,08%</td>\n",
       "</tr>\n",
       "<tr>\n",
       "<td style=\"text-align: center;\" width=\"38\">4</td>\n",
       "<td style=\"text-align: center;\" width=\"68\">31.73</td>\n",
       "<td width=\"154\">Kota Administrasi Jakarta Barat</td>\n",
       "<td width=\"115\">–</td>\n",
       "<td style=\"text-align: right;\" width=\"106\">124,44</td>\n",
       "<td style=\"text-align: right;\" width=\"77\">18,74%</td>\n",
       "</tr>\n",
       "<tr>\n",
       "<td style=\"text-align: center;\" width=\"38\">5</td>\n",
       "<td style=\"text-align: center;\" width=\"68\">31.74</td>\n",
       "<td width=\"154\">Kota Administrasi Jakarta Selatan</td>\n",
       "<td width=\"115\">–</td>\n",
       "<td style=\"text-align: right;\" width=\"106\">154,32</td>\n",
       "<td style=\"text-align: right;\" width=\"77\">23,24%</td>\n",
       "</tr>\n",
       "<tr>\n",
       "<td style=\"text-align: center;\" width=\"38\">6</td>\n",
       "<td style=\"text-align: center;\" width=\"68\">31.75</td>\n",
       "<td width=\"154\">Kota Administrasi Jakarta Timur</td>\n",
       "<td width=\"115\">–</td>\n",
       "<td style=\"text-align: right;\" width=\"106\">182,70</td>\n",
       "<td style=\"text-align: right;\" width=\"77\">27,51%</td>\n",
       "</tr>\n",
       "<tr>\n",
       "<td width=\"38\"></td>\n",
       "<td width=\"68\"></td>\n",
       "<td width=\"154\"><strong>Provinsi DKI Jakarta</strong></td>\n",
       "<td width=\"115\"><strong> </strong></td>\n",
       "<td style=\"text-align: right;\" width=\"106\"><strong>664,01</strong></td>\n",
       "<td style=\"text-align: right;\" width=\"77\"><strong>100,00%</strong></td>\n",
       "</tr>\n",
       "</tbody>\n",
       "</table>"
      ]
     },
     "execution_count": 76,
     "metadata": {},
     "output_type": "execute_result"
    }
   ],
   "source": [
    "provinceTable = soup.find('table')\n",
    "provinceTable"
   ]
  },
  {
   "cell_type": "code",
   "execution_count": 79,
   "metadata": {},
   "outputs": [],
   "source": [
    "t1 = [] \n",
    "t2 = [] \n",
    "t3 = [] \n",
    "t4 = []\n",
    "t5 = []\n",
    "t6 = []\n",
    "\n",
    "for item in provinceTable.findAll(\"tr\"):\n",
    "    cells = item.findAll('td')\n",
    "    if(len(cells) == 6):\n",
    "        t1.append(cells[0].find(text=True))\n",
    "        t2.append(cells[1].find(text=True))\n",
    "        t3.append(cells[2].find(text=True))\n",
    "        t4.append(cells[3].find(text=True))\n",
    "        t5.append(cells[4].find(text=True))\n",
    "        t6.append(cells[5].find(text=True))"
   ]
  },
  {
   "cell_type": "code",
   "execution_count": 80,
   "metadata": {},
   "outputs": [],
   "source": [
    "df = pd.DataFrame()\n",
    "df[\"Nomor\"] = t1[1:(len(t1)-1)]\n",
    "df[\"Kode Wilayah\"] = t2[1:(len(t1)-1)]\n",
    "df[\"Nama Kota/Kabupaten\"] = t3[1:(len(t1)-1)]\n",
    "df[\"Luas Wilayah (km)\"] = t5[1:(len(t1)-1)]\n",
    "df[\"Luas Wilayah (%)\"] = t6[1:(len(t1)-1)]\n",
    "df = df.set_index('Nomor')"
   ]
  },
  {
   "cell_type": "code",
   "execution_count": 81,
   "metadata": {},
   "outputs": [
    {
     "data": {
      "text/html": [
       "<div>\n",
       "<style scoped>\n",
       "    .dataframe tbody tr th:only-of-type {\n",
       "        vertical-align: middle;\n",
       "    }\n",
       "\n",
       "    .dataframe tbody tr th {\n",
       "        vertical-align: top;\n",
       "    }\n",
       "\n",
       "    .dataframe thead th {\n",
       "        text-align: right;\n",
       "    }\n",
       "</style>\n",
       "<table border=\"1\" class=\"dataframe\">\n",
       "  <thead>\n",
       "    <tr style=\"text-align: right;\">\n",
       "      <th></th>\n",
       "      <th>Kode Wilayah</th>\n",
       "      <th>Nama Kota/Kabupaten</th>\n",
       "      <th>Luas Wilayah (km)</th>\n",
       "      <th>Luas Wilayah (%)</th>\n",
       "    </tr>\n",
       "    <tr>\n",
       "      <th>Nomor</th>\n",
       "      <th></th>\n",
       "      <th></th>\n",
       "      <th></th>\n",
       "      <th></th>\n",
       "    </tr>\n",
       "  </thead>\n",
       "  <tbody>\n",
       "    <tr>\n",
       "      <th>1</th>\n",
       "      <td>31.01</td>\n",
       "      <td>Kabupaten Administrasi Kepulauan Seribu</td>\n",
       "      <td>10,18</td>\n",
       "      <td>1,53%</td>\n",
       "    </tr>\n",
       "    <tr>\n",
       "      <th>2</th>\n",
       "      <td>31.71</td>\n",
       "      <td>Kota Administrasi Jakarta Pusat</td>\n",
       "      <td>52,38</td>\n",
       "      <td>7,89%</td>\n",
       "    </tr>\n",
       "    <tr>\n",
       "      <th>3</th>\n",
       "      <td>31.72</td>\n",
       "      <td>Kota Administrasi Jakarta Utara</td>\n",
       "      <td>139,99</td>\n",
       "      <td>21,08%</td>\n",
       "    </tr>\n",
       "    <tr>\n",
       "      <th>4</th>\n",
       "      <td>31.73</td>\n",
       "      <td>Kota Administrasi Jakarta Barat</td>\n",
       "      <td>124,44</td>\n",
       "      <td>18,74%</td>\n",
       "    </tr>\n",
       "    <tr>\n",
       "      <th>5</th>\n",
       "      <td>31.74</td>\n",
       "      <td>Kota Administrasi Jakarta Selatan</td>\n",
       "      <td>154,32</td>\n",
       "      <td>23,24%</td>\n",
       "    </tr>\n",
       "    <tr>\n",
       "      <th>6</th>\n",
       "      <td>31.75</td>\n",
       "      <td>Kota Administrasi Jakarta Timur</td>\n",
       "      <td>182,70</td>\n",
       "      <td>27,51%</td>\n",
       "    </tr>\n",
       "  </tbody>\n",
       "</table>\n",
       "</div>"
      ],
      "text/plain": [
       "      Kode Wilayah                      Nama Kota/Kabupaten Luas Wilayah (km)  \\\n",
       "Nomor                                                                           \n",
       "1            31.01  Kabupaten Administrasi Kepulauan Seribu             10,18   \n",
       "2            31.71          Kota Administrasi Jakarta Pusat             52,38   \n",
       "3            31.72          Kota Administrasi Jakarta Utara            139,99   \n",
       "4            31.73          Kota Administrasi Jakarta Barat            124,44   \n",
       "5            31.74        Kota Administrasi Jakarta Selatan            154,32   \n",
       "6            31.75          Kota Administrasi Jakarta Timur            182,70   \n",
       "\n",
       "      Luas Wilayah (%)  \n",
       "Nomor                   \n",
       "1                1,53%  \n",
       "2                7,89%  \n",
       "3               21,08%  \n",
       "4               18,74%  \n",
       "5               23,24%  \n",
       "6               27,51%  "
      ]
     },
     "execution_count": 81,
     "metadata": {},
     "output_type": "execute_result"
    }
   ],
   "source": [
    "df"
   ]
  },
  {
   "cell_type": "code",
   "execution_count": 82,
   "metadata": {},
   "outputs": [],
   "source": [
    "df.to_excel(\"dki-jakarta.xlsx\") "
   ]
  }
 ],
 "metadata": {
  "kernelspec": {
   "display_name": "Python 3",
   "language": "python",
   "name": "python3"
  },
  "language_info": {
   "codemirror_mode": {
    "name": "ipython",
    "version": 3
   },
   "file_extension": ".py",
   "mimetype": "text/x-python",
   "name": "python",
   "nbconvert_exporter": "python",
   "pygments_lexer": "ipython3",
   "version": "3.7.1"
  }
 },
 "nbformat": 4,
 "nbformat_minor": 4
}
